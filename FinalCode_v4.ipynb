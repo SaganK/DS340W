{
  "nbformat": 4,
  "nbformat_minor": 0,
  "metadata": {
    "colab": {
      "provenance": []
    },
    "kernelspec": {
      "name": "python3",
      "display_name": "Python 3"
    },
    "language_info": {
      "name": "python"
    }
  },
  "cells": [
    {
      "cell_type": "code",
      "execution_count": 1,
      "metadata": {
        "colab": {
          "base_uri": "https://localhost:8080/"
        },
        "id": "psT_fU5tYB8A",
        "outputId": "2eab56e7-7793-4756-ef6e-bec34dfa290a"
      },
      "outputs": [
        {
          "output_type": "stream",
          "name": "stdout",
          "text": [
            "Collecting pyGMM\n",
            "  Downloading pygmm-0.6.5-py2.py3-none-any.whl (954 kB)\n",
            "\u001b[?25l     \u001b[90m━━━━━━━━━━━━━━━━━━━━━━━━━━━━━━━━━━━━━━━━\u001b[0m \u001b[32m0.0/954.5 kB\u001b[0m \u001b[31m?\u001b[0m eta \u001b[36m-:--:--\u001b[0m\r\u001b[2K     \u001b[91m━━━\u001b[0m\u001b[90m╺\u001b[0m\u001b[90m━━━━━━━━━━━━━━━━━━━━━━━━━━━━━━━━━━━━\u001b[0m \u001b[32m71.7/954.5 kB\u001b[0m \u001b[31m1.9 MB/s\u001b[0m eta \u001b[36m0:00:01\u001b[0m\r\u001b[2K     \u001b[91m━━━━━━━━━━━━━━━━━━━━━━━━━━━━━━━━━━━━━━━\u001b[0m\u001b[91m╸\u001b[0m \u001b[32m952.3/954.5 kB\u001b[0m \u001b[31m13.5 MB/s\u001b[0m eta \u001b[36m0:00:01\u001b[0m\r\u001b[2K     \u001b[90m━━━━━━━━━━━━━━━━━━━━━━━━━━━━━━━━━━━━━━━━\u001b[0m \u001b[32m954.5/954.5 kB\u001b[0m \u001b[31m10.5 MB/s\u001b[0m eta \u001b[36m0:00:00\u001b[0m\n",
            "\u001b[?25hRequirement already satisfied: matplotlib in /usr/local/lib/python3.10/dist-packages (from pyGMM) (3.7.1)\n",
            "Requirement already satisfied: numpy in /usr/local/lib/python3.10/dist-packages (from pyGMM) (1.23.5)\n",
            "Requirement already satisfied: scipy>=0.17.0 in /usr/local/lib/python3.10/dist-packages (from pyGMM) (1.11.3)\n",
            "Requirement already satisfied: six in /usr/local/lib/python3.10/dist-packages (from pyGMM) (1.16.0)\n",
            "Requirement already satisfied: contourpy>=1.0.1 in /usr/local/lib/python3.10/dist-packages (from matplotlib->pyGMM) (1.2.0)\n",
            "Requirement already satisfied: cycler>=0.10 in /usr/local/lib/python3.10/dist-packages (from matplotlib->pyGMM) (0.12.1)\n",
            "Requirement already satisfied: fonttools>=4.22.0 in /usr/local/lib/python3.10/dist-packages (from matplotlib->pyGMM) (4.44.3)\n",
            "Requirement already satisfied: kiwisolver>=1.0.1 in /usr/local/lib/python3.10/dist-packages (from matplotlib->pyGMM) (1.4.5)\n",
            "Requirement already satisfied: packaging>=20.0 in /usr/local/lib/python3.10/dist-packages (from matplotlib->pyGMM) (23.2)\n",
            "Requirement already satisfied: pillow>=6.2.0 in /usr/local/lib/python3.10/dist-packages (from matplotlib->pyGMM) (9.4.0)\n",
            "Requirement already satisfied: pyparsing>=2.3.1 in /usr/local/lib/python3.10/dist-packages (from matplotlib->pyGMM) (3.1.1)\n",
            "Requirement already satisfied: python-dateutil>=2.7 in /usr/local/lib/python3.10/dist-packages (from matplotlib->pyGMM) (2.8.2)\n",
            "Installing collected packages: pyGMM\n",
            "Successfully installed pyGMM-0.6.5\n"
          ]
        }
      ],
      "source": [
        "!pip install pyGMM"
      ]
    },
    {
      "cell_type": "code",
      "source": [
        "!pip install xgboost"
      ],
      "metadata": {
        "colab": {
          "base_uri": "https://localhost:8080/"
        },
        "id": "GeG46W5KYSJu",
        "outputId": "069f7660-4aee-4533-dcdf-977789a91302"
      },
      "execution_count": 2,
      "outputs": [
        {
          "output_type": "stream",
          "name": "stdout",
          "text": [
            "Requirement already satisfied: xgboost in /usr/local/lib/python3.10/dist-packages (2.0.2)\n",
            "Requirement already satisfied: numpy in /usr/local/lib/python3.10/dist-packages (from xgboost) (1.23.5)\n",
            "Requirement already satisfied: scipy in /usr/local/lib/python3.10/dist-packages (from xgboost) (1.11.3)\n"
          ]
        }
      ]
    },
    {
      "cell_type": "code",
      "source": [
        "# Import neessary packages\n",
        "import numpy as np\n",
        "import pandas as pd\n",
        "from sklearn.model_selection import train_test_split\n",
        "from sklearn.metrics import accuracy_score\n",
        "import xgboost as xgb\n",
        "from sklearn.impute import SimpleImputer\n",
        "from sklearn.compose import ColumnTransformer\n",
        "from sklearn.preprocessing import StandardScaler, OneHotEncoder\n",
        "from sklearn.pipeline import Pipeline"
      ],
      "metadata": {
        "id": "BoCORsuwYYpz"
      },
      "execution_count": 8,
      "outputs": []
    },
    {
      "cell_type": "code",
      "source": [
        "# Mount Drive\n",
        "from google.colab import drive\n",
        "drive.mount('/content/drive')"
      ],
      "metadata": {
        "colab": {
          "base_uri": "https://localhost:8080/"
        },
        "id": "OvdNH65jYnqj",
        "outputId": "daf588d4-8b9c-4bfb-e588-ff18c65ae025"
      },
      "execution_count": 4,
      "outputs": [
        {
          "output_type": "stream",
          "name": "stdout",
          "text": [
            "Mounted at /content/drive\n"
          ]
        }
      ]
    },
    {
      "cell_type": "code",
      "source": [
        "# Direct to Data File\n",
        "path = '/content/drive/My Drive/DS 340W/FinalData1.xlsx'\n",
        "data = pd.read_excel(path)"
      ],
      "metadata": {
        "id": "bIIrku3uYro3"
      },
      "execution_count": 5,
      "outputs": []
    },
    {
      "cell_type": "code",
      "source": [
        "# Split the data into training and testing sets\n",
        "X = data.drop('mag', axis=1)\n",
        "y = data['mag']\n",
        "\n",
        "X_train, X_test, y_train, y_test = train_test_split(X, y, test_size=0.3, random_state=892)\n",
        "\n",
        "# The following accounts for the different data types in our code\n",
        "numerical_cols = X.select_dtypes(include=['float64', 'int64']).columns\n",
        "categorical_cols = X.select_dtypes(include=['object']).columns"
      ],
      "metadata": {
        "id": "SGNVPKt9YuCW"
      },
      "execution_count": 7,
      "outputs": []
    },
    {
      "cell_type": "code",
      "source": [
        "# Processing of numerical and categorical data in order for model to run properly\n",
        "num_trans = Pipeline(steps=[\n",
        "    ('imputer', SimpleImputer(strategy='mean')),\n",
        "    ('scaler', StandardScaler())\n",
        "])\n",
        "\n",
        "cat_trans = Pipeline(steps=[\n",
        "    ('imputer', SimpleImputer(strategy='most_frequent')),\n",
        "    ('onehot', OneHotEncoder(handle_unknown='ignore'))\n",
        "])\n",
        "\n",
        "pre = ColumnTransformer(\n",
        "    transformers=[\n",
        "        ('num', num_trans, numerical_cols),\n",
        "        ('cat', cat_trans, categorical_cols)\n",
        "    ])"
      ],
      "metadata": {
        "id": "j0jJC2_GY99u"
      },
      "execution_count": 9,
      "outputs": []
    },
    {
      "cell_type": "code",
      "source": [
        "# Put data into format for the model\n",
        "pre.fit(X_train)\n",
        "\n",
        "dtrain = xgb.DMatrix(pre.transform(X_train), label=y_train)\n",
        "dtest = xgb.DMatrix(pre.transform(X_test), label=y_test)"
      ],
      "metadata": {
        "id": "mgD282tdZI9c"
      },
      "execution_count": 10,
      "outputs": []
    },
    {
      "cell_type": "code",
      "source": [
        "# Specify parameters for XGBoost model\n",
        "params = {\n",
        "    'objective': 'reg:squarederror',\n",
        "    'eval_metric': 'logloss',\n",
        "    'eta': 0.09,\n",
        "    'max_depth': 3,\n",
        "    'subsample': 0.6,\n",
        "    'colsample_bytree': 0.8,\n",
        "    'seed': 567\n",
        "}"
      ],
      "metadata": {
        "id": "ZXi2-ZRxZhYi"
      },
      "execution_count": 11,
      "outputs": []
    },
    {
      "cell_type": "code",
      "source": [
        "# Train the XGBoost model\n",
        "num_round = 200\n",
        "xgb_model = xgb.train(params, dtrain, num_round)"
      ],
      "metadata": {
        "id": "BZ_rvvOnZlUK"
      },
      "execution_count": 12,
      "outputs": []
    },
    {
      "cell_type": "code",
      "source": [
        "# Show paramter values\n",
        "param_dump = xgb_model.get_dump()\n",
        "#print(param_dump[0])"
      ],
      "metadata": {
        "colab": {
          "base_uri": "https://localhost:8080/"
        },
        "id": "akE5tWhpZxSt",
        "outputId": "d8a615f3-96c3-4607-e0f4-612852053227"
      },
      "execution_count": 13,
      "outputs": [
        {
          "output_type": "stream",
          "name": "stdout",
          "text": [
            "0:[f10<-0.769847095] yes=1,no=2,missing=2\n",
            "\t1:[f15<2.00001001] yes=3,no=4,missing=4\n",
            "\t\t3:[f4<-0.572518945] yes=7,no=8,missing=8\n",
            "\t\t\t7:leaf=0.0235055257\n",
            "\t\t\t8:leaf=-0.00499759987\n",
            "\t\t4:[f10<-0.883507609] yes=9,no=10,missing=10\n",
            "\t\t\t9:leaf=-0.012531396\n",
            "\t\t\t10:leaf=0.07977698\n",
            "\t2:[f16<2.00001001] yes=5,no=6,missing=6\n",
            "\t\t5:[f1<0.35083732] yes=11,no=12,missing=12\n",
            "\t\t\t11:leaf=0.0876626968\n",
            "\t\t\t12:leaf=0.0632510483\n",
            "\t\t6:[f19<2.00001001] yes=13,no=14,missing=14\n",
            "\t\t\t13:leaf=0.186818123\n",
            "\t\t\t14:leaf=-0.00680134585\n",
            "\n"
          ]
        }
      ]
    },
    {
      "cell_type": "code",
      "source": [
        "# Assign param values based on param_dump above\n",
        "# Values in tree may be different, we used a different seed when we assigned these values\n",
        "mag = 0.806045592\n",
        "vs30 = 0.0539587326\n",
        "dist_rup = -0.00742871454"
      ],
      "metadata": {
        "id": "9O_gU2_laSrt"
      },
      "execution_count": 14,
      "outputs": []
    },
    {
      "cell_type": "code",
      "source": [
        "# Run function definition for GMM\n",
        "# Also incorporate parm value from above\n",
        "\n",
        "\"\"\"Idriss (2014, :cite:`idriss14`) model.\"\"\"\n",
        "import numpy as np\n",
        "\n",
        "from pygmm import model\n",
        "\n",
        "__author__ = \"Albert Kottke\"\n",
        "\n",
        "\n",
        "class Idriss2014(model.GroundMotionModel):\n",
        "    \"\"\"Idriss (2014, :cite:`idriss14`) model.\n",
        "\n",
        "    This model was developed for active tectonic regions as part of the\n",
        "    NGA-West2 effort.\n",
        "\n",
        "    Parameters\n",
        "    ----------\n",
        "    scenario : :class:`pygmm.model.Scenario`\n",
        "        earthquake scenario\n",
        "\n",
        "    \"\"\"\n",
        "\n",
        "    NAME = \"Idriss (2014)\"\n",
        "    ABBREV = \"I14\"\n",
        "\n",
        "    # Reference velocity (m/s)\n",
        "    V_REF = 1200.0\n",
        "\n",
        "    # Load the coefficients for the model\n",
        "    COEFF = dict(\n",
        "        small=model.load_data_file(\"idriss_2014-small.csv\", 2),\n",
        "        large=model.load_data_file(\"idriss_2014-large.csv\", 2),\n",
        "    )\n",
        "    PERIODS = COEFF[\"small\"][\"period\"]\n",
        "\n",
        "    INDEX_PGA = 0\n",
        "    INDICES_PSA = np.arange(22)\n",
        "\n",
        "    PARAMS = [\n",
        "        model.NumericParameter(\"dist_rup\", True, None, dist_rup),\n",
        "        model.NumericParameter(\"mag\", True, mag, None),\n",
        "        model.NumericParameter(\"v_s30\", True, vs30, 1200),\n",
        "        model.CategoricalParameter(\"mechanism\", True, [\"SS\", \"RS\"], \"SS\"),\n",
        "    ]\n",
        "\n",
        "\n",
        "    def __init__(self, scenario: model.Scenario):\n",
        "        \"\"\"Initialize the model.\"\"\"\n",
        "        super().__init__(scenario)\n",
        "        self._ln_resp = self._calc_ln_resp()\n",
        "        self._ln_std = self._calc_ln_std()\n",
        "\n",
        "\n",
        "\n",
        "    def _calc_ln_resp(self) -> np.ndarray:\n",
        "        s = self._scenario\n",
        "        c = self.COEFF[\"small\"] if s.mag <= 6.75 else self.COEFF[\"large\"]\n",
        "\n",
        "        if s.mechanism == \"RS\":\n",
        "            flag_mech = 1\n",
        "        else:\n",
        "            # SS/RS/U\n",
        "            flag_mech = 0\n",
        "\n",
        "        f_mag = c.alpha_1 + c.alpha_2 * s.mag + c.alpha_3 * (8.5 - s.mag) ** 2\n",
        "        f_dst = (\n",
        "            -(c.beta_1 + c.beta_2 * s.mag) * np.log(s.dist_rup + 10)\n",
        "            + c.gamma * s.dist_rup\n",
        "        )\n",
        "        f_ste = c.epsilon * np.log(s.v_s30)\n",
        "        f_mec = c.phi * flag_mech\n",
        "\n",
        "        ln_resp = f_mag + f_dst + f_ste + f_mec\n",
        "\n",
        "        return ln_resp\n",
        "\n",
        "    def _calc_ln_std(self) -> np.ndarray:\n",
        "        s = self._scenario\n",
        "        ln_std = (\n",
        "            1.18\n",
        "            + 0.035 * np.log(np.clip(self.PERIODS, 0.05, 3.0))\n",
        "            - 0.06 * np.clip(s.mag, 5.0, 7.5)\n",
        "        )\n",
        "        return ln_std"
      ],
      "metadata": {
        "id": "-VUuHMNwW6vK"
      },
      "execution_count": 15,
      "outputs": []
    },
    {
      "cell_type": "code",
      "source": [
        "from pygmm.model import Scenario\n",
        "\n",
        "# Create an instance of the predictors\n",
        "# We use values based on the original data file\n",
        "scenario = Scenario(\n",
        "    mag= 2.91732,\n",
        "    dist_rup= 81.04359,\n",
        "    v_s30=240.98754,\n",
        "    mechanism=\"SS\"\n",
        ")"
      ],
      "metadata": {
        "id": "LEu3bBt6a1Py"
      },
      "execution_count": 19,
      "outputs": []
    },
    {
      "cell_type": "code",
      "source": [
        "model = Idriss2014(scenario)"
      ],
      "metadata": {
        "id": "9L0P93ONa9vA"
      },
      "execution_count": null,
      "outputs": []
    },
    {
      "cell_type": "code",
      "source": [
        "# Calculate Metrics\n",
        "ln_resp = model._calc_ln_resp()\n",
        "ln_std = model._calc_ln_std()\n",
        "# Print Accuracy\n",
        "print(np.mean(ln_std))"
      ],
      "metadata": {
        "colab": {
          "base_uri": "https://localhost:8080/"
        },
        "id": "lrkH_ZnJbABd",
        "outputId": "f9157bc5-89c0-40e1-c5e6-08a7b6ba277d"
      },
      "execution_count": 21,
      "outputs": [
        {
          "output_type": "stream",
          "name": "stdout",
          "text": [
            "0.8461553421379613\n"
          ]
        }
      ]
    }
  ]
}