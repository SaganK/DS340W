{
  "nbformat": 4,
  "nbformat_minor": 0,
  "metadata": {
    "colab": {
      "provenance": []
    },
    "kernelspec": {
      "name": "python3",
      "display_name": "Python 3"
    },
    "language_info": {
      "name": "python"
    }
  },
  "cells": [
    {
      "cell_type": "code",
      "source": [
        "!pip install pyGMM"
      ],
      "metadata": {
        "colab": {
          "base_uri": "https://localhost:8080/"
        },
        "id": "Jm7LtsAaCrr2",
        "outputId": "56238dab-dfef-475e-e96e-2ab9d8fdc4fd"
      },
      "execution_count": 4,
      "outputs": [
        {
          "output_type": "stream",
          "name": "stdout",
          "text": [
            "Requirement already satisfied: pyGMM in /usr/local/lib/python3.10/dist-packages (0.6.5)\n",
            "Requirement already satisfied: matplotlib in /usr/local/lib/python3.10/dist-packages (from pyGMM) (3.7.1)\n",
            "Requirement already satisfied: numpy in /usr/local/lib/python3.10/dist-packages (from pyGMM) (1.23.5)\n",
            "Requirement already satisfied: scipy>=0.17.0 in /usr/local/lib/python3.10/dist-packages (from pyGMM) (1.11.3)\n",
            "Requirement already satisfied: six in /usr/local/lib/python3.10/dist-packages (from pyGMM) (1.16.0)\n",
            "Requirement already satisfied: contourpy>=1.0.1 in /usr/local/lib/python3.10/dist-packages (from matplotlib->pyGMM) (1.2.0)\n",
            "Requirement already satisfied: cycler>=0.10 in /usr/local/lib/python3.10/dist-packages (from matplotlib->pyGMM) (0.12.1)\n",
            "Requirement already satisfied: fonttools>=4.22.0 in /usr/local/lib/python3.10/dist-packages (from matplotlib->pyGMM) (4.44.0)\n",
            "Requirement already satisfied: kiwisolver>=1.0.1 in /usr/local/lib/python3.10/dist-packages (from matplotlib->pyGMM) (1.4.5)\n",
            "Requirement already satisfied: packaging>=20.0 in /usr/local/lib/python3.10/dist-packages (from matplotlib->pyGMM) (23.2)\n",
            "Requirement already satisfied: pillow>=6.2.0 in /usr/local/lib/python3.10/dist-packages (from matplotlib->pyGMM) (9.4.0)\n",
            "Requirement already satisfied: pyparsing>=2.3.1 in /usr/local/lib/python3.10/dist-packages (from matplotlib->pyGMM) (3.1.1)\n",
            "Requirement already satisfied: python-dateutil>=2.7 in /usr/local/lib/python3.10/dist-packages (from matplotlib->pyGMM) (2.8.2)\n"
          ]
        }
      ]
    },
    {
      "cell_type": "code",
      "execution_count": 5,
      "metadata": {
        "id": "U4qCuLmuBCVl"
      },
      "outputs": [],
      "source": [
        "from sklearn.datasets import load_iris\n",
        "from sklearn.model_selection import train_test_split\n",
        "from sklearn.metrics import accuracy_score\n",
        "import numpy as np\n",
        "import pandas as pd\n",
        "import pygmm"
      ]
    },
    {
      "cell_type": "code",
      "source": [
        "# Load in Data\n",
        "data = pd.read_excel('Cyprus_nM=50,dtp=15.xlsx')"
      ],
      "metadata": {
        "id": "A-lo5XTGB3zf"
      },
      "execution_count": 6,
      "outputs": []
    },
    {
      "cell_type": "code",
      "source": [
        "\"\"\"Idriss (2014, :cite:`idriss14`) model.\"\"\"\n",
        "import numpy as np\n",
        "\n",
        "from pygmm import model\n",
        "\n",
        "__author__ = \"Albert Kottke\"\n",
        "\n",
        "\n",
        "class Idriss2014(model.GroundMotionModel):\n",
        "    \"\"\"Idriss (2014, :cite:`idriss14`) model.\n",
        "\n",
        "    This model was developed for active tectonic regions as part of the\n",
        "    NGA-West2 effort.\n",
        "\n",
        "    Parameters\n",
        "    ----------\n",
        "    scenario : :class:`pygmm.model.Scenario`\n",
        "        earthquake scenario\n",
        "\n",
        "    \"\"\"\n",
        "\n",
        "    NAME = \"Idriss (2014)\"\n",
        "    ABBREV = \"I14\"\n",
        "\n",
        "    # Reference velocity (m/s)\n",
        "    V_REF = 1200.0\n",
        "\n",
        "    # Load the coefficients for the model\n",
        "    COEFF = dict(\n",
        "        small=model.load_data_file(\"idriss_2014-small.csv\", 2),\n",
        "        large=model.load_data_file(\"idriss_2014-large.csv\", 2),\n",
        "    )\n",
        "    PERIODS = COEFF[\"small\"][\"period\"]\n",
        "\n",
        "    INDEX_PGA = 0\n",
        "    INDICES_PSA = np.arange(22)\n",
        "\n",
        "    PARAMS = [\n",
        "        model.NumericParameter(\"dist_rup\", True, None, 150),\n",
        "        model.NumericParameter(\"mag\", True, 5, None),\n",
        "        model.NumericParameter(\"v_s30\", True, 450, 1200),\n",
        "        model.CategoricalParameter(\"mechanism\", True, [\"SS\", \"RS\"], \"SS\"),\n",
        "    ]\n",
        "\n",
        "\n",
        "    def __init__(self, scenario: model.Scenario):\n",
        "        \"\"\"Initialize the model.\"\"\"\n",
        "        super().__init__(scenario)\n",
        "        self._ln_resp = self._calc_ln_resp()\n",
        "        self._ln_std = self._calc_ln_std()\n",
        "\n",
        "\n",
        "\n",
        "    def _calc_ln_resp(self) -> np.ndarray:\n",
        "        \"\"\"Calculate the natural logarithm of the response.\n",
        "\n",
        "        Returns\n",
        "        -------\n",
        "        ln_resp : class:`np.array`:\n",
        "            natural log of the response\n",
        "\n",
        "        \"\"\"\n",
        "        s = self._scenario\n",
        "        c = self.COEFF[\"small\"] if s.mag <= 6.75 else self.COEFF[\"large\"]\n",
        "\n",
        "        if s.mechanism == \"RS\":\n",
        "            flag_mech = 1\n",
        "        else:\n",
        "            # SS/RS/U\n",
        "            flag_mech = 0\n",
        "\n",
        "        f_mag = c.alpha_1 + c.alpha_2 * s.mag + c.alpha_3 * (8.5 - s.mag) ** 2\n",
        "        f_dst = (\n",
        "            -(c.beta_1 + c.beta_2 * s.mag) * np.log(s.dist_rup + 10)\n",
        "            + c.gamma * s.dist_rup\n",
        "        )\n",
        "        f_ste = c.epsilon * np.log(s.v_s30)\n",
        "        f_mec = c.phi * flag_mech\n",
        "\n",
        "        ln_resp = f_mag + f_dst + f_ste + f_mec\n",
        "\n",
        "        return ln_resp\n",
        "\n",
        "    def _calc_ln_std(self) -> np.ndarray:\n",
        "        \"\"\"Calculate the logarithmic standard deviation.\n",
        "\n",
        "        Returns\n",
        "        -------\n",
        "        ln_std : class:`np.array`:\n",
        "            natural log standard deviation\n",
        "\n",
        "        \"\"\"\n",
        "        s = self._scenario\n",
        "        ln_std = (\n",
        "            1.18\n",
        "            + 0.035 * np.log(np.clip(self.PERIODS, 0.05, 3.0))\n",
        "            - 0.06 * np.clip(s.mag, 5.0, 7.5)\n",
        "        )\n",
        "        return ln_std"
      ],
      "metadata": {
        "id": "nTKKcyHNCDnL"
      },
      "execution_count": 7,
      "outputs": []
    },
    {
      "cell_type": "code",
      "source": [
        "from pygmm.model import Scenario"
      ],
      "metadata": {
        "id": "1296VuZQCW18"
      },
      "execution_count": 8,
      "outputs": []
    },
    {
      "cell_type": "code",
      "source": [
        "# Create an instance of the predictors\n",
        "scenario = Scenario(\n",
        "    mag=4.5,\n",
        "    dist_rup=100.0,\n",
        "    v_s30=550.0,\n",
        "    mechanism=\"SS\"\n",
        ")"
      ],
      "metadata": {
        "id": "5hEt0hH3Caq5"
      },
      "execution_count": 17,
      "outputs": []
    },
    {
      "cell_type": "code",
      "source": [
        "model = Idriss2014(scenario)"
      ],
      "metadata": {
        "id": "MxQRwESKCc1q",
        "colab": {
          "base_uri": "https://localhost:8080/"
        },
        "outputId": "f77869f6-57e3-4078-875b-d1691165a59a"
      },
      "execution_count": 18,
      "outputs": [
        {
          "output_type": "stream",
          "name": "stderr",
          "text": [
            "WARNING:root:mag (4.5) is less than the recommended limit (5).\n"
          ]
        }
      ]
    },
    {
      "cell_type": "code",
      "source": [
        "# Calculate Metrics\n",
        "ln_resp = model._calc_ln_resp()\n",
        "ln_std = model._calc_ln_std()"
      ],
      "metadata": {
        "id": "_LL7X2a7CfpW"
      },
      "execution_count": 19,
      "outputs": []
    },
    {
      "cell_type": "code",
      "source": [
        "# Print Accuracy\n",
        "print(np.mean(ln_std))"
      ],
      "metadata": {
        "colab": {
          "base_uri": "https://localhost:8080/"
        },
        "id": "CP-Yv3y1CiHh",
        "outputId": "240df092-8673-466f-a7b2-0b381cce1712"
      },
      "execution_count": 20,
      "outputs": [
        {
          "output_type": "stream",
          "name": "stdout",
          "text": [
            "0.8461553421379613\n"
          ]
        }
      ]
    }
  ]
}